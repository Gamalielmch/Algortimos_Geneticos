{
 "cells": [
  {
   "cell_type": "code",
   "execution_count": 7,
   "id": "173fd6ff-a7b9-4160-b778-78c38550fe6a",
   "metadata": {},
   "outputs": [],
   "source": [
    "import pandas as pd\n",
    "from sklearn.preprocessing import LabelEncoder\n",
    "\n"
   ]
  },
  {
   "cell_type": "code",
   "execution_count": 8,
   "id": "847d23e6-d516-4077-9f18-d14512a9a7a7",
   "metadata": {},
   "outputs": [],
   "source": [
    "def Encoder(df):\n",
    "          columnsToEncode = list(df.select_dtypes(include=['category','object']))\n",
    "          le = LabelEncoder()\n",
    "          for feature in columnsToEncode:\n",
    "              try:\n",
    "                  df[feature] = le.fit_transform(df[feature])\n",
    "              except:\n",
    "                  print('Error encoding '+feature)\n",
    "          return df"
   ]
  },
  {
   "cell_type": "code",
   "execution_count": null,
   "id": "b7e1dfdd-97a3-4db9-bd97-3ae68dbf3ba9",
   "metadata": {},
   "outputs": [],
   "source": []
  },
  {
   "cell_type": "code",
   "execution_count": 9,
   "id": "683180d0-91b5-40cb-9ee8-e5245dc30d4b",
   "metadata": {},
   "outputs": [],
   "source": [
    "df = pd.read_csv('train.csv')\n"
   ]
  },
  {
   "cell_type": "code",
   "execution_count": 10,
   "id": "e40e79a7-583f-43d7-b388-45afe59f0f85",
   "metadata": {},
   "outputs": [],
   "source": [
    "columnsToEncode = list(df.select_dtypes(include=['category','object']))"
   ]
  },
  {
   "cell_type": "code",
   "execution_count": 11,
   "id": "a2b993a1-c3f6-4299-82f2-2a68ad197000",
   "metadata": {},
   "outputs": [],
   "source": [
    "le = LabelEncoder()"
   ]
  },
  {
   "cell_type": "code",
   "execution_count": 12,
   "id": "f0068cbe-8ca5-419a-8bc4-a27bddfa9ac5",
   "metadata": {},
   "outputs": [],
   "source": [
    "for feature in columnsToEncode:\n",
    "              try:\n",
    "                  df[feature] = le.fit_transform(df[feature])\n",
    "              except:\n",
    "                  print('Error encoding '+feature)"
   ]
  },
  {
   "cell_type": "code",
   "execution_count": 13,
   "id": "e1f5451a-d32c-4eb9-a5ea-6c7a8686db5b",
   "metadata": {},
   "outputs": [],
   "source": [
    "df = Encoder(df)"
   ]
  },
  {
   "cell_type": "code",
   "execution_count": 14,
   "id": "3481fad7-f588-40f2-bc90-607980b3c86b",
   "metadata": {},
   "outputs": [
    {
     "name": "stdout",
     "output_type": "stream",
     "text": [
      "        Id  MSSubClass  MSZoning  LotFrontage  LotArea  Street  Alley  \\\n",
      "0        1          60         3         65.0     8450       1      2   \n",
      "1        2          20         3         80.0     9600       1      2   \n",
      "2        3          60         3         68.0    11250       1      2   \n",
      "3        4          70         3         60.0     9550       1      2   \n",
      "4        5          60         3         84.0    14260       1      2   \n",
      "...    ...         ...       ...          ...      ...     ...    ...   \n",
      "1455  1456          60         3         62.0     7917       1      2   \n",
      "1456  1457          20         3         85.0    13175       1      2   \n",
      "1457  1458          70         3         66.0     9042       1      2   \n",
      "1458  1459          20         3         68.0     9717       1      2   \n",
      "1459  1460          20         3         75.0     9937       1      2   \n",
      "\n",
      "      LotShape  LandContour  Utilities  ...  PoolArea  PoolQC  Fence  \\\n",
      "0            3            3          0  ...         0       3      4   \n",
      "1            3            3          0  ...         0       3      4   \n",
      "2            0            3          0  ...         0       3      4   \n",
      "3            0            3          0  ...         0       3      4   \n",
      "4            0            3          0  ...         0       3      4   \n",
      "...        ...          ...        ...  ...       ...     ...    ...   \n",
      "1455         3            3          0  ...         0       3      4   \n",
      "1456         3            3          0  ...         0       3      2   \n",
      "1457         3            3          0  ...         0       3      0   \n",
      "1458         3            3          0  ...         0       3      4   \n",
      "1459         3            3          0  ...         0       3      4   \n",
      "\n",
      "      MiscFeature  MiscVal  MoSold  YrSold  SaleType  SaleCondition  SalePrice  \n",
      "0               4        0       2    2008         8              4     208500  \n",
      "1               4        0       5    2007         8              4     181500  \n",
      "2               4        0       9    2008         8              4     223500  \n",
      "3               4        0       2    2006         8              0     140000  \n",
      "4               4        0      12    2008         8              4     250000  \n",
      "...           ...      ...     ...     ...       ...            ...        ...  \n",
      "1455            4        0       8    2007         8              4     175000  \n",
      "1456            4        0       2    2010         8              4     210000  \n",
      "1457            2     2500       5    2010         8              4     266500  \n",
      "1458            4        0       4    2010         8              4     142125  \n",
      "1459            4        0       6    2008         8              4     147500  \n",
      "\n",
      "[1460 rows x 81 columns]\n"
     ]
    }
   ],
   "source": [
    "print(df)"
   ]
  },
  {
   "cell_type": "code",
   "execution_count": 15,
   "id": "0e61f924-5bd7-46ec-b6ac-8327b36c317b",
   "metadata": {},
   "outputs": [],
   "source": [
    "df.to_csv(r'train_encoder.csv', index=False)"
   ]
  },
  {
   "cell_type": "code",
   "execution_count": null,
   "id": "277dc17a-f3de-46c0-9140-c9554ad93c0d",
   "metadata": {},
   "outputs": [],
   "source": []
  }
 ],
 "metadata": {
  "kernelspec": {
   "display_name": "Python 3 (ipykernel)",
   "language": "python",
   "name": "python3"
  },
  "language_info": {
   "codemirror_mode": {
    "name": "ipython",
    "version": 3
   },
   "file_extension": ".py",
   "mimetype": "text/x-python",
   "name": "python",
   "nbconvert_exporter": "python",
   "pygments_lexer": "ipython3",
   "version": "3.8.8"
  }
 },
 "nbformat": 4,
 "nbformat_minor": 5
}
